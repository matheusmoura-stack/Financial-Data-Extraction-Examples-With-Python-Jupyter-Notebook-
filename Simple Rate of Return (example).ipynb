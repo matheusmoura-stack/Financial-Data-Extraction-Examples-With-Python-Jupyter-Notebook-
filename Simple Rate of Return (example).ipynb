{
 "cells": [
  {
   "cell_type": "code",
   "execution_count": 1,
   "id": "bc02555d",
   "metadata": {},
   "outputs": [],
   "source": [
    "import numpy as np\n",
    "from pandas_datareader import data as wb\n",
    "import matplotlib.pyplot as plt"
   ]
  },
  {
   "cell_type": "code",
   "execution_count": 2,
   "id": "5872892a",
   "metadata": {},
   "outputs": [],
   "source": [
    "PG = wb.DataReader('PG', data_source='yahoo', start='1995-1-1')"
   ]
  },
  {
   "cell_type": "code",
   "execution_count": 3,
   "id": "18a57c90",
   "metadata": {},
   "outputs": [
    {
     "data": {
      "text/html": [
       "<div>\n",
       "<style scoped>\n",
       "    .dataframe tbody tr th:only-of-type {\n",
       "        vertical-align: middle;\n",
       "    }\n",
       "\n",
       "    .dataframe tbody tr th {\n",
       "        vertical-align: top;\n",
       "    }\n",
       "\n",
       "    .dataframe thead th {\n",
       "        text-align: right;\n",
       "    }\n",
       "</style>\n",
       "<table border=\"1\" class=\"dataframe\">\n",
       "  <thead>\n",
       "    <tr style=\"text-align: right;\">\n",
       "      <th></th>\n",
       "      <th>High</th>\n",
       "      <th>Low</th>\n",
       "      <th>Open</th>\n",
       "      <th>Close</th>\n",
       "      <th>Volume</th>\n",
       "      <th>Adj Close</th>\n",
       "    </tr>\n",
       "    <tr>\n",
       "      <th>Date</th>\n",
       "      <th></th>\n",
       "      <th></th>\n",
       "      <th></th>\n",
       "      <th></th>\n",
       "      <th></th>\n",
       "      <th></th>\n",
       "    </tr>\n",
       "  </thead>\n",
       "  <tbody>\n",
       "    <tr>\n",
       "      <th>1995-01-03</th>\n",
       "      <td>15.62500</td>\n",
       "      <td>15.43750</td>\n",
       "      <td>15.46875</td>\n",
       "      <td>15.59375</td>\n",
       "      <td>3318400.0</td>\n",
       "      <td>7.971118</td>\n",
       "    </tr>\n",
       "    <tr>\n",
       "      <th>1995-01-04</th>\n",
       "      <td>15.65625</td>\n",
       "      <td>15.31250</td>\n",
       "      <td>15.53125</td>\n",
       "      <td>15.46875</td>\n",
       "      <td>2218800.0</td>\n",
       "      <td>7.907219</td>\n",
       "    </tr>\n",
       "    <tr>\n",
       "      <th>1995-01-05</th>\n",
       "      <td>15.43750</td>\n",
       "      <td>15.21875</td>\n",
       "      <td>15.37500</td>\n",
       "      <td>15.25000</td>\n",
       "      <td>2319600.0</td>\n",
       "      <td>7.795409</td>\n",
       "    </tr>\n",
       "    <tr>\n",
       "      <th>1995-01-06</th>\n",
       "      <td>15.40625</td>\n",
       "      <td>15.15625</td>\n",
       "      <td>15.15625</td>\n",
       "      <td>15.28125</td>\n",
       "      <td>3438000.0</td>\n",
       "      <td>7.811376</td>\n",
       "    </tr>\n",
       "    <tr>\n",
       "      <th>1995-01-09</th>\n",
       "      <td>15.40625</td>\n",
       "      <td>15.18750</td>\n",
       "      <td>15.34375</td>\n",
       "      <td>15.21875</td>\n",
       "      <td>1795200.0</td>\n",
       "      <td>7.779432</td>\n",
       "    </tr>\n",
       "  </tbody>\n",
       "</table>\n",
       "</div>"
      ],
      "text/plain": [
       "                High       Low      Open     Close     Volume  Adj Close\n",
       "Date                                                                    \n",
       "1995-01-03  15.62500  15.43750  15.46875  15.59375  3318400.0   7.971118\n",
       "1995-01-04  15.65625  15.31250  15.53125  15.46875  2218800.0   7.907219\n",
       "1995-01-05  15.43750  15.21875  15.37500  15.25000  2319600.0   7.795409\n",
       "1995-01-06  15.40625  15.15625  15.15625  15.28125  3438000.0   7.811376\n",
       "1995-01-09  15.40625  15.18750  15.34375  15.21875  1795200.0   7.779432"
      ]
     },
     "execution_count": 3,
     "metadata": {},
     "output_type": "execute_result"
    }
   ],
   "source": [
    "PG.head()"
   ]
  },
  {
   "cell_type": "code",
   "execution_count": 4,
   "id": "4ccb9b7b",
   "metadata": {},
   "outputs": [
    {
     "data": {
      "text/html": [
       "<div>\n",
       "<style scoped>\n",
       "    .dataframe tbody tr th:only-of-type {\n",
       "        vertical-align: middle;\n",
       "    }\n",
       "\n",
       "    .dataframe tbody tr th {\n",
       "        vertical-align: top;\n",
       "    }\n",
       "\n",
       "    .dataframe thead th {\n",
       "        text-align: right;\n",
       "    }\n",
       "</style>\n",
       "<table border=\"1\" class=\"dataframe\">\n",
       "  <thead>\n",
       "    <tr style=\"text-align: right;\">\n",
       "      <th></th>\n",
       "      <th>High</th>\n",
       "      <th>Low</th>\n",
       "      <th>Open</th>\n",
       "      <th>Close</th>\n",
       "      <th>Volume</th>\n",
       "      <th>Adj Close</th>\n",
       "    </tr>\n",
       "    <tr>\n",
       "      <th>Date</th>\n",
       "      <th></th>\n",
       "      <th></th>\n",
       "      <th></th>\n",
       "      <th></th>\n",
       "      <th></th>\n",
       "      <th></th>\n",
       "    </tr>\n",
       "  </thead>\n",
       "  <tbody>\n",
       "    <tr>\n",
       "      <th>2022-03-08</th>\n",
       "      <td>152.949997</td>\n",
       "      <td>146.580002</td>\n",
       "      <td>152.179993</td>\n",
       "      <td>146.789993</td>\n",
       "      <td>9517200.0</td>\n",
       "      <td>146.789993</td>\n",
       "    </tr>\n",
       "    <tr>\n",
       "      <th>2022-03-09</th>\n",
       "      <td>150.470001</td>\n",
       "      <td>147.809998</td>\n",
       "      <td>148.830002</td>\n",
       "      <td>148.770004</td>\n",
       "      <td>7044100.0</td>\n",
       "      <td>148.770004</td>\n",
       "    </tr>\n",
       "    <tr>\n",
       "      <th>2022-03-10</th>\n",
       "      <td>148.279999</td>\n",
       "      <td>143.940002</td>\n",
       "      <td>147.800003</td>\n",
       "      <td>144.940002</td>\n",
       "      <td>9221000.0</td>\n",
       "      <td>144.940002</td>\n",
       "    </tr>\n",
       "    <tr>\n",
       "      <th>2022-03-11</th>\n",
       "      <td>146.160004</td>\n",
       "      <td>143.029999</td>\n",
       "      <td>145.399994</td>\n",
       "      <td>143.220001</td>\n",
       "      <td>7085800.0</td>\n",
       "      <td>143.220001</td>\n",
       "    </tr>\n",
       "    <tr>\n",
       "      <th>2022-03-11</th>\n",
       "      <td>146.160004</td>\n",
       "      <td>143.029999</td>\n",
       "      <td>145.399994</td>\n",
       "      <td>143.220001</td>\n",
       "      <td>7086146.0</td>\n",
       "      <td>143.220001</td>\n",
       "    </tr>\n",
       "  </tbody>\n",
       "</table>\n",
       "</div>"
      ],
      "text/plain": [
       "                  High         Low        Open       Close     Volume  \\\n",
       "Date                                                                    \n",
       "2022-03-08  152.949997  146.580002  152.179993  146.789993  9517200.0   \n",
       "2022-03-09  150.470001  147.809998  148.830002  148.770004  7044100.0   \n",
       "2022-03-10  148.279999  143.940002  147.800003  144.940002  9221000.0   \n",
       "2022-03-11  146.160004  143.029999  145.399994  143.220001  7085800.0   \n",
       "2022-03-11  146.160004  143.029999  145.399994  143.220001  7086146.0   \n",
       "\n",
       "             Adj Close  \n",
       "Date                    \n",
       "2022-03-08  146.789993  \n",
       "2022-03-09  148.770004  \n",
       "2022-03-10  144.940002  \n",
       "2022-03-11  143.220001  \n",
       "2022-03-11  143.220001  "
      ]
     },
     "execution_count": 4,
     "metadata": {},
     "output_type": "execute_result"
    }
   ],
   "source": [
    "PG.tail()"
   ]
  },
  {
   "cell_type": "code",
   "execution_count": 5,
   "id": "08d55463",
   "metadata": {},
   "outputs": [
    {
     "name": "stdout",
     "output_type": "stream",
     "text": [
      "Date\n",
      "1995-01-03         NaN\n",
      "1995-01-04   -0.008016\n",
      "1995-01-05   -0.014140\n",
      "1995-01-06    0.002048\n",
      "1995-01-09   -0.004089\n",
      "                ...   \n",
      "2022-03-08   -0.039584\n",
      "2022-03-09    0.013489\n",
      "2022-03-10   -0.025744\n",
      "2022-03-11   -0.011867\n",
      "2022-03-11    0.000000\n",
      "Name: simple_return, Length: 6848, dtype: float64\n"
     ]
    }
   ],
   "source": [
    "PG['simple_return'] = (PG['Adj Close'] / PG['Adj Close'].shift(1)) - 1 \n",
    "print(PG['simple_return'])"
   ]
  },
  {
   "cell_type": "code",
   "execution_count": 6,
   "id": "e2b4e0f0",
   "metadata": {},
   "outputs": [],
   "source": [
    "#pd.DataFrame.shift(nº de voltas)"
   ]
  },
  {
   "cell_type": "code",
   "execution_count": 7,
   "id": "019ea08f",
   "metadata": {},
   "outputs": [
    {
     "data": {
      "image/png": "[encoded data removed]",
      "text/plain": [
       "<Figure size 576x360 with 1 Axes>"
      ]
     },
     "metadata": {
      "needs_background": "light"
     },
     "output_type": "display_data"
    }
   ],
   "source": [
    "PG['simple_return'].plot(figsize=(8,5))\n",
    "plt.show()"
   ]
  },
  {
   "cell_type": "code",
   "execution_count": 9,
   "id": "877aa537",
   "metadata": {},
   "outputs": [
    {
     "data": {
      "text/plain": [
       "0.000522106317585511"
      ]
     },
     "execution_count": 9,
     "metadata": {},
     "output_type": "execute_result"
    }
   ],
   "source": [
    "avg_returns_d = PG['simple_return'].mean()\n",
    "avg_returns_d"
   ]
  },
  {
   "cell_type": "code",
   "execution_count": 12,
   "id": "7a425498",
   "metadata": {},
   "outputs": [
    {
     "data": {
      "text/plain": [
       "0.13052657939637774"
      ]
     },
     "execution_count": 12,
     "metadata": {},
     "output_type": "execute_result"
    }
   ],
   "source": [
    "avg_returns_a = PG['simple_return'].mean() *250\n",
    "avg_returns_a "
   ]
  },
  {
   "cell_type": "code",
   "execution_count": 13,
   "id": "57fd4135",
   "metadata": {},
   "outputs": [
    {
     "name": "stdout",
     "output_type": "stream",
     "text": [
      "13.053%\n"
     ]
    }
   ],
   "source": [
    "print(str(round(avg_returns_a, 5)* 100) + '%')"
   ]
  },
  {
   "cell_type": "code",
   "execution_count": null,
   "id": "aa887bc0",
   "metadata": {},
   "outputs": [],
   "source": []
  }
 ],
 "metadata": {
  "kernelspec": {
   "display_name": "Python 3 (ipykernel)",
   "language": "python",
   "name": "python3"
  },
  "language_info": {
   "codemirror_mode": {
    "name": "ipython",
    "version": 3
   },
   "file_extension": ".py",
   "mimetype": "text/x-python",
   "name": "python",
   "nbconvert_exporter": "python",
   "pygments_lexer": "ipython3",
   "version": "3.9.6"
  }
 },
 "nbformat": 4,
 "nbformat_minor": 5
}
