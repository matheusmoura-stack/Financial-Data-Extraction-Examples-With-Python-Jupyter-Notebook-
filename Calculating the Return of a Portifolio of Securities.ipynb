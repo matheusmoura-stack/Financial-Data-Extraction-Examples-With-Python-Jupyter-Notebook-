{
 "cells": [
  {
   "cell_type": "code",
   "execution_count": 1,
   "id": "34412d69",
   "metadata": {},
   "outputs": [],
   "source": [
    "import numpy as np\n",
    "import pandas as pd\n",
    "from pandas_datareader import data as wb\n",
    "import matplotlib.pyplot as plt"
   ]
  },
  {
   "cell_type": "code",
   "execution_count": 2,
   "id": "fc7756f5",
   "metadata": {},
   "outputs": [],
   "source": [
    "tickers = ['PG', 'MSFT', 'F', 'GE']\n",
    "mydata = pd.DataFrame()\n",
    "for t in tickers:\n",
    "    mydata[t] = wb.DataReader(t, data_source='yahoo', start='1995-1-1')['Adj Close']"
   ]
  },
  {
   "cell_type": "code",
   "execution_count": 3,
   "id": "1dfcb56a",
   "metadata": {},
   "outputs": [
    {
     "name": "stdout",
     "output_type": "stream",
     "text": [
      "<class 'pandas.core.frame.DataFrame'>\n",
      "DatetimeIndex: 6849 entries, 1995-01-03 to 2022-03-15\n",
      "Data columns (total 4 columns):\n",
      " #   Column  Non-Null Count  Dtype  \n",
      "---  ------  --------------  -----  \n",
      " 0   PG      6849 non-null   float64\n",
      " 1   MSFT    6849 non-null   float64\n",
      " 2   F       6849 non-null   float64\n",
      " 3   GE      6849 non-null   float64\n",
      "dtypes: float64(4)\n",
      "memory usage: 267.5 KB\n"
     ]
    }
   ],
   "source": [
    "mydata.info()"
   ]
  },
  {
   "cell_type": "code",
   "execution_count": 4,
   "id": "2a95211d",
   "metadata": {},
   "outputs": [
    {
     "data": {
      "text/html": [
       "<div>\n",
       "<style scoped>\n",
       "    .dataframe tbody tr th:only-of-type {\n",
       "        vertical-align: middle;\n",
       "    }\n",
       "\n",
       "    .dataframe tbody tr th {\n",
       "        vertical-align: top;\n",
       "    }\n",
       "\n",
       "    .dataframe thead th {\n",
       "        text-align: right;\n",
       "    }\n",
       "</style>\n",
       "<table border=\"1\" class=\"dataframe\">\n",
       "  <thead>\n",
       "    <tr style=\"text-align: right;\">\n",
       "      <th></th>\n",
       "      <th>PG</th>\n",
       "      <th>MSFT</th>\n",
       "      <th>F</th>\n",
       "      <th>GE</th>\n",
       "    </tr>\n",
       "    <tr>\n",
       "      <th>Date</th>\n",
       "      <th></th>\n",
       "      <th></th>\n",
       "      <th></th>\n",
       "      <th></th>\n",
       "    </tr>\n",
       "  </thead>\n",
       "  <tbody>\n",
       "    <tr>\n",
       "      <th>1995-01-03</th>\n",
       "      <td>7.971814</td>\n",
       "      <td>2.377004</td>\n",
       "      <td>3.953287</td>\n",
       "      <td>31.972109</td>\n",
       "    </tr>\n",
       "    <tr>\n",
       "      <th>1995-01-04</th>\n",
       "      <td>7.907916</td>\n",
       "      <td>2.394283</td>\n",
       "      <td>4.059653</td>\n",
       "      <td>31.972109</td>\n",
       "    </tr>\n",
       "    <tr>\n",
       "      <th>1995-01-05</th>\n",
       "      <td>7.796090</td>\n",
       "      <td>2.354790</td>\n",
       "      <td>4.024196</td>\n",
       "      <td>32.050484</td>\n",
       "    </tr>\n",
       "    <tr>\n",
       "      <th>1995-01-06</th>\n",
       "      <td>7.812064</td>\n",
       "      <td>2.394283</td>\n",
       "      <td>4.024196</td>\n",
       "      <td>31.893742</td>\n",
       "    </tr>\n",
       "    <tr>\n",
       "      <th>1995-01-09</th>\n",
       "      <td>7.780111</td>\n",
       "      <td>2.379472</td>\n",
       "      <td>4.095109</td>\n",
       "      <td>31.580296</td>\n",
       "    </tr>\n",
       "  </tbody>\n",
       "</table>\n",
       "</div>"
      ],
      "text/plain": [
       "                  PG      MSFT         F         GE\n",
       "Date                                               \n",
       "1995-01-03  7.971814  2.377004  3.953287  31.972109\n",
       "1995-01-04  7.907916  2.394283  4.059653  31.972109\n",
       "1995-01-05  7.796090  2.354790  4.024196  32.050484\n",
       "1995-01-06  7.812064  2.394283  4.024196  31.893742\n",
       "1995-01-09  7.780111  2.379472  4.095109  31.580296"
      ]
     },
     "execution_count": 4,
     "metadata": {},
     "output_type": "execute_result"
    }
   ],
   "source": [
    "mydata.head()"
   ]
  },
  {
   "cell_type": "code",
   "execution_count": 5,
   "id": "e92097d0",
   "metadata": {},
   "outputs": [
    {
     "data": {
      "text/html": [
       "<div>\n",
       "<style scoped>\n",
       "    .dataframe tbody tr th:only-of-type {\n",
       "        vertical-align: middle;\n",
       "    }\n",
       "\n",
       "    .dataframe tbody tr th {\n",
       "        vertical-align: top;\n",
       "    }\n",
       "\n",
       "    .dataframe thead th {\n",
       "        text-align: right;\n",
       "    }\n",
       "</style>\n",
       "<table border=\"1\" class=\"dataframe\">\n",
       "  <thead>\n",
       "    <tr style=\"text-align: right;\">\n",
       "      <th></th>\n",
       "      <th>PG</th>\n",
       "      <th>MSFT</th>\n",
       "      <th>F</th>\n",
       "      <th>GE</th>\n",
       "    </tr>\n",
       "    <tr>\n",
       "      <th>Date</th>\n",
       "      <th></th>\n",
       "      <th></th>\n",
       "      <th></th>\n",
       "      <th></th>\n",
       "    </tr>\n",
       "  </thead>\n",
       "  <tbody>\n",
       "    <tr>\n",
       "      <th>2022-03-09</th>\n",
       "      <td>148.770004</td>\n",
       "      <td>288.500000</td>\n",
       "      <td>16.370001</td>\n",
       "      <td>91.250000</td>\n",
       "    </tr>\n",
       "    <tr>\n",
       "      <th>2022-03-10</th>\n",
       "      <td>144.940002</td>\n",
       "      <td>285.589996</td>\n",
       "      <td>16.330000</td>\n",
       "      <td>91.330002</td>\n",
       "    </tr>\n",
       "    <tr>\n",
       "      <th>2022-03-11</th>\n",
       "      <td>143.220001</td>\n",
       "      <td>280.070007</td>\n",
       "      <td>16.040001</td>\n",
       "      <td>92.279999</td>\n",
       "    </tr>\n",
       "    <tr>\n",
       "      <th>2022-03-14</th>\n",
       "      <td>145.050003</td>\n",
       "      <td>276.440002</td>\n",
       "      <td>15.740000</td>\n",
       "      <td>92.449997</td>\n",
       "    </tr>\n",
       "    <tr>\n",
       "      <th>2022-03-15</th>\n",
       "      <td>150.270004</td>\n",
       "      <td>287.149994</td>\n",
       "      <td>16.059999</td>\n",
       "      <td>92.349998</td>\n",
       "    </tr>\n",
       "  </tbody>\n",
       "</table>\n",
       "</div>"
      ],
      "text/plain": [
       "                    PG        MSFT          F         GE\n",
       "Date                                                    \n",
       "2022-03-09  148.770004  288.500000  16.370001  91.250000\n",
       "2022-03-10  144.940002  285.589996  16.330000  91.330002\n",
       "2022-03-11  143.220001  280.070007  16.040001  92.279999\n",
       "2022-03-14  145.050003  276.440002  15.740000  92.449997\n",
       "2022-03-15  150.270004  287.149994  16.059999  92.349998"
      ]
     },
     "execution_count": 5,
     "metadata": {},
     "output_type": "execute_result"
    }
   ],
   "source": [
    "mydata.tail()"
   ]
  },
  {
   "cell_type": "code",
   "execution_count": 6,
   "id": "0b86afc0",
   "metadata": {},
   "outputs": [
    {
     "data": {
      "text/plain": [
       "PG       7.971814\n",
       "MSFT     2.377004\n",
       "F        3.953287\n",
       "GE      31.972109\n",
       "Name: 1995-01-03 00:00:00, dtype: float64"
      ]
     },
     "execution_count": 6,
     "metadata": {},
     "output_type": "execute_result"
    }
   ],
   "source": [
    "mydata.iloc[0]"
   ]
  },
  {
   "cell_type": "code",
   "execution_count": 14,
   "id": "132515e0",
   "metadata": {},
   "outputs": [
    {
     "data": {
      "image/png": "[encoded data removed]",
      "text/plain": [
       "<Figure size 936x576 with 1 Axes>"
      ]
     },
     "metadata": {
      "needs_background": "light"
     },
     "output_type": "display_data"
    }
   ],
   "source": [
    "(mydata / mydata.iloc[0] * 100).plot(figsize = (13, 8))\n",
    "plt.show()"
   ]
  },
  {
   "cell_type": "code",
   "execution_count": 9,
   "id": "87dfe911",
   "metadata": {},
   "outputs": [
    {
     "data": {
      "text/plain": [
       "PG       7.971814\n",
       "MSFT     2.377004\n",
       "F        3.953287\n",
       "GE      31.972109\n",
       "Name: 1995-01-03 00:00:00, dtype: float64"
      ]
     },
     "execution_count": 9,
     "metadata": {},
     "output_type": "execute_result"
    }
   ],
   "source": [
    "mydata.loc['1995-01-03']"
   ]
  },
  {
   "cell_type": "code",
   "execution_count": 11,
   "id": "5841132e",
   "metadata": {},
   "outputs": [
    {
     "data": {
      "text/plain": [
       "PG       7.971814\n",
       "MSFT     2.377004\n",
       "F        3.953287\n",
       "GE      31.972109\n",
       "Name: 1995-01-03 00:00:00, dtype: float64"
      ]
     },
     "execution_count": 11,
     "metadata": {},
     "output_type": "execute_result"
    }
   ],
   "source": [
    "mydata.iloc[0]"
   ]
  },
  {
   "cell_type": "code",
   "execution_count": 15,
   "id": "32d301e4",
   "metadata": {},
   "outputs": [],
   "source": [
    "#CALCULANDO O RETORNO DE UM PORTIFÓLIO (Calculating the Return of a Portifolio of Securities)"
   ]
  },
  {
   "cell_type": "code",
   "execution_count": 16,
   "id": "73087244",
   "metadata": {},
   "outputs": [
    {
     "data": {
      "text/html": [
       "<div>\n",
       "<style scoped>\n",
       "    .dataframe tbody tr th:only-of-type {\n",
       "        vertical-align: middle;\n",
       "    }\n",
       "\n",
       "    .dataframe tbody tr th {\n",
       "        vertical-align: top;\n",
       "    }\n",
       "\n",
       "    .dataframe thead th {\n",
       "        text-align: right;\n",
       "    }\n",
       "</style>\n",
       "<table border=\"1\" class=\"dataframe\">\n",
       "  <thead>\n",
       "    <tr style=\"text-align: right;\">\n",
       "      <th></th>\n",
       "      <th>PG</th>\n",
       "      <th>MSFT</th>\n",
       "      <th>F</th>\n",
       "      <th>GE</th>\n",
       "    </tr>\n",
       "    <tr>\n",
       "      <th>Date</th>\n",
       "      <th></th>\n",
       "      <th></th>\n",
       "      <th></th>\n",
       "      <th></th>\n",
       "    </tr>\n",
       "  </thead>\n",
       "  <tbody>\n",
       "    <tr>\n",
       "      <th>1995-01-03</th>\n",
       "      <td>NaN</td>\n",
       "      <td>NaN</td>\n",
       "      <td>NaN</td>\n",
       "      <td>NaN</td>\n",
       "    </tr>\n",
       "    <tr>\n",
       "      <th>1995-01-04</th>\n",
       "      <td>-0.008016</td>\n",
       "      <td>0.007269</td>\n",
       "      <td>0.026906</td>\n",
       "      <td>0.000000</td>\n",
       "    </tr>\n",
       "    <tr>\n",
       "      <th>1995-01-05</th>\n",
       "      <td>-0.014141</td>\n",
       "      <td>-0.016495</td>\n",
       "      <td>-0.008734</td>\n",
       "      <td>0.002451</td>\n",
       "    </tr>\n",
       "    <tr>\n",
       "      <th>1995-01-06</th>\n",
       "      <td>0.002049</td>\n",
       "      <td>0.016771</td>\n",
       "      <td>0.000000</td>\n",
       "      <td>-0.004890</td>\n",
       "    </tr>\n",
       "    <tr>\n",
       "      <th>1995-01-09</th>\n",
       "      <td>-0.004090</td>\n",
       "      <td>-0.006186</td>\n",
       "      <td>0.017622</td>\n",
       "      <td>-0.009828</td>\n",
       "    </tr>\n",
       "  </tbody>\n",
       "</table>\n",
       "</div>"
      ],
      "text/plain": [
       "                  PG      MSFT         F        GE\n",
       "Date                                              \n",
       "1995-01-03       NaN       NaN       NaN       NaN\n",
       "1995-01-04 -0.008016  0.007269  0.026906  0.000000\n",
       "1995-01-05 -0.014141 -0.016495 -0.008734  0.002451\n",
       "1995-01-06  0.002049  0.016771  0.000000 -0.004890\n",
       "1995-01-09 -0.004090 -0.006186  0.017622 -0.009828"
      ]
     },
     "execution_count": 16,
     "metadata": {},
     "output_type": "execute_result"
    }
   ],
   "source": [
    "returns = (mydata / mydata.shift(1)) - 1\n",
    "returns.head()"
   ]
  },
  {
   "cell_type": "code",
   "execution_count": 17,
   "id": "165b032e",
   "metadata": {},
   "outputs": [],
   "source": [
    "weights = np.array([0.25, 0.25, 0.25, 0.25])"
   ]
  },
  {
   "cell_type": "code",
   "execution_count": 18,
   "id": "c0771951",
   "metadata": {},
   "outputs": [
    {
     "data": {
      "text/plain": [
       "array([        nan,  0.00653984, -0.00922959, ..., -0.00963805,\n",
       "       -0.00426115,  0.02349471])"
      ]
     },
     "execution_count": 18,
     "metadata": {},
     "output_type": "execute_result"
    }
   ],
   "source": [
    "np.dot(returns, weights)"
   ]
  },
  {
   "cell_type": "code",
   "execution_count": 20,
   "id": "8c2e6308",
   "metadata": {},
   "outputs": [
    {
     "data": {
      "text/plain": [
       "PG      0.132285\n",
       "MSFT    0.224062\n",
       "F       0.131650\n",
       "GE      0.090136\n",
       "dtype: float64"
      ]
     },
     "execution_count": 20,
     "metadata": {},
     "output_type": "execute_result"
    }
   ],
   "source": [
    "annual_returns = returns.mean() * 250\n",
    "annual_returns"
   ]
  },
  {
   "cell_type": "code",
   "execution_count": 21,
   "id": "6b7008af",
   "metadata": {},
   "outputs": [
    {
     "data": {
      "text/plain": [
       "0.14453321726832535"
      ]
     },
     "execution_count": 21,
     "metadata": {},
     "output_type": "execute_result"
    }
   ],
   "source": [
    "np.dot(annual_returns, weights)"
   ]
  },
  {
   "cell_type": "code",
   "execution_count": 22,
   "id": "c246b35d",
   "metadata": {},
   "outputs": [
    {
     "name": "stdout",
     "output_type": "stream",
     "text": [
      "14.453%\n"
     ]
    }
   ],
   "source": [
    "pfolio_1 = str(round(np.dot(annual_returns, weights), 5) * 100) + '%'\n",
    "print(pfolio_1)"
   ]
  },
  {
   "cell_type": "code",
   "execution_count": 23,
   "id": "3f9c79a0",
   "metadata": {},
   "outputs": [],
   "source": [
    "weights_2 = np.array([0.4, 0.4, 0.15, 0.05])"
   ]
  },
  {
   "cell_type": "code",
   "execution_count": 25,
   "id": "254d8ff3",
   "metadata": {},
   "outputs": [
    {
     "name": "stdout",
     "output_type": "stream",
     "text": [
      "14.453%\n",
      "16.679%\n"
     ]
    }
   ],
   "source": [
    "pfolio_2 = str(round(np.dot(annual_returns, weights_2), 5) * 100) + '%'\n",
    "print(pfolio_1)\n",
    "print(pfolio_2)"
   ]
  },
  {
   "cell_type": "code",
   "execution_count": null,
   "id": "23b8482d",
   "metadata": {},
   "outputs": [],
   "source": [
    "\n"
   ]
  }
 ],
 "metadata": {
  "kernelspec": {
   "display_name": "Python 3 (ipykernel)",
   "language": "python",
   "name": "python3"
  },
  "language_info": {
   "codemirror_mode": {
    "name": "ipython",
    "version": 3
   },
   "file_extension": ".py",
   "mimetype": "text/x-python",
   "name": "python",
   "nbconvert_exporter": "python",
   "pygments_lexer": "ipython3",
   "version": "3.9.6"
  }
 },
 "nbformat": 4,
 "nbformat_minor": 5
}
