{
 "cells": [
  {
   "cell_type": "code",
   "execution_count": 2,
   "id": "d0a28f71",
   "metadata": {},
   "outputs": [],
   "source": [
    "import numpy as np\n",
    "import pandas as pd\n",
    "from pandas_datareader import data as wb\n",
    "import matplotlib.pyplot as plt"
   ]
  },
  {
   "cell_type": "code",
   "execution_count": 3,
   "id": "53a3b72d",
   "metadata": {},
   "outputs": [],
   "source": [
    "tickers  = ['PG', 'JNJ']\n",
    "\n",
    "sec_data = pd.DataFrame()\n",
    "\n",
    "for t in tickers:\n",
    "    sec_data[t] = wb.DataReader(t, data_source='yahoo', start='2007-1-1')['Adj Close']"
   ]
  },
  {
   "cell_type": "code",
   "execution_count": 4,
   "id": "fbf18d95",
   "metadata": {},
   "outputs": [
    {
     "data": {
      "text/html": [
       "<div>\n",
       "<style scoped>\n",
       "    .dataframe tbody tr th:only-of-type {\n",
       "        vertical-align: middle;\n",
       "    }\n",
       "\n",
       "    .dataframe tbody tr th {\n",
       "        vertical-align: top;\n",
       "    }\n",
       "\n",
       "    .dataframe thead th {\n",
       "        text-align: right;\n",
       "    }\n",
       "</style>\n",
       "<table border=\"1\" class=\"dataframe\">\n",
       "  <thead>\n",
       "    <tr style=\"text-align: right;\">\n",
       "      <th></th>\n",
       "      <th>PG</th>\n",
       "      <th>JNJ</th>\n",
       "    </tr>\n",
       "    <tr>\n",
       "      <th>Date</th>\n",
       "      <th></th>\n",
       "      <th></th>\n",
       "    </tr>\n",
       "  </thead>\n",
       "  <tbody>\n",
       "    <tr>\n",
       "      <th>2022-03-15</th>\n",
       "      <td>150.270004</td>\n",
       "      <td>176.139999</td>\n",
       "    </tr>\n",
       "    <tr>\n",
       "      <th>2022-03-16</th>\n",
       "      <td>149.759995</td>\n",
       "      <td>174.520004</td>\n",
       "    </tr>\n",
       "    <tr>\n",
       "      <th>2022-03-17</th>\n",
       "      <td>150.229996</td>\n",
       "      <td>176.800003</td>\n",
       "    </tr>\n",
       "    <tr>\n",
       "      <th>2022-03-18</th>\n",
       "      <td>150.149994</td>\n",
       "      <td>174.839996</td>\n",
       "    </tr>\n",
       "    <tr>\n",
       "      <th>2022-03-18</th>\n",
       "      <td>150.149994</td>\n",
       "      <td>174.839996</td>\n",
       "    </tr>\n",
       "  </tbody>\n",
       "</table>\n",
       "</div>"
      ],
      "text/plain": [
       "                    PG         JNJ\n",
       "Date                              \n",
       "2022-03-15  150.270004  176.139999\n",
       "2022-03-16  149.759995  174.520004\n",
       "2022-03-17  150.229996  176.800003\n",
       "2022-03-18  150.149994  174.839996\n",
       "2022-03-18  150.149994  174.839996"
      ]
     },
     "execution_count": 4,
     "metadata": {},
     "output_type": "execute_result"
    }
   ],
   "source": [
    "sec_data.tail()"
   ]
  },
  {
   "cell_type": "code",
   "execution_count": 5,
   "id": "f4e07f7c",
   "metadata": {},
   "outputs": [
    {
     "data": {
      "text/html": [
       "<div>\n",
       "<style scoped>\n",
       "    .dataframe tbody tr th:only-of-type {\n",
       "        vertical-align: middle;\n",
       "    }\n",
       "\n",
       "    .dataframe tbody tr th {\n",
       "        vertical-align: top;\n",
       "    }\n",
       "\n",
       "    .dataframe thead th {\n",
       "        text-align: right;\n",
       "    }\n",
       "</style>\n",
       "<table border=\"1\" class=\"dataframe\">\n",
       "  <thead>\n",
       "    <tr style=\"text-align: right;\">\n",
       "      <th></th>\n",
       "      <th>PG</th>\n",
       "      <th>JNJ</th>\n",
       "    </tr>\n",
       "    <tr>\n",
       "      <th>Date</th>\n",
       "      <th></th>\n",
       "      <th></th>\n",
       "    </tr>\n",
       "  </thead>\n",
       "  <tbody>\n",
       "    <tr>\n",
       "      <th>2007-01-03</th>\n",
       "      <td>41.371269</td>\n",
       "      <td>42.505840</td>\n",
       "    </tr>\n",
       "    <tr>\n",
       "      <th>2007-01-04</th>\n",
       "      <td>41.057167</td>\n",
       "      <td>43.037182</td>\n",
       "    </tr>\n",
       "    <tr>\n",
       "      <th>2007-01-05</th>\n",
       "      <td>40.704594</td>\n",
       "      <td>42.646679</td>\n",
       "    </tr>\n",
       "    <tr>\n",
       "      <th>2007-01-08</th>\n",
       "      <td>40.794346</td>\n",
       "      <td>42.576267</td>\n",
       "    </tr>\n",
       "    <tr>\n",
       "      <th>2007-01-09</th>\n",
       "      <td>40.691772</td>\n",
       "      <td>42.416229</td>\n",
       "    </tr>\n",
       "  </tbody>\n",
       "</table>\n",
       "</div>"
      ],
      "text/plain": [
       "                   PG        JNJ\n",
       "Date                            \n",
       "2007-01-03  41.371269  42.505840\n",
       "2007-01-04  41.057167  43.037182\n",
       "2007-01-05  40.704594  42.646679\n",
       "2007-01-08  40.794346  42.576267\n",
       "2007-01-09  40.691772  42.416229"
      ]
     },
     "execution_count": 5,
     "metadata": {},
     "output_type": "execute_result"
    }
   ],
   "source": [
    "sec_data.head()"
   ]
  },
  {
   "cell_type": "code",
   "execution_count": 6,
   "id": "be83b6bb",
   "metadata": {},
   "outputs": [],
   "source": [
    "#Calculando os retornos logarítimicos pois, analisarei cada empresa"
   ]
  },
  {
   "cell_type": "code",
   "execution_count": 7,
   "id": "382f8fb1",
   "metadata": {},
   "outputs": [],
   "source": [
    "sec_returns = np.log(sec_data / sec_data.shift(1))"
   ]
  },
  {
   "cell_type": "code",
   "execution_count": 8,
   "id": "84daaa8c",
   "metadata": {},
   "outputs": [
    {
     "data": {
      "text/html": [
       "<div>\n",
       "<style scoped>\n",
       "    .dataframe tbody tr th:only-of-type {\n",
       "        vertical-align: middle;\n",
       "    }\n",
       "\n",
       "    .dataframe tbody tr th {\n",
       "        vertical-align: top;\n",
       "    }\n",
       "\n",
       "    .dataframe thead th {\n",
       "        text-align: right;\n",
       "    }\n",
       "</style>\n",
       "<table border=\"1\" class=\"dataframe\">\n",
       "  <thead>\n",
       "    <tr style=\"text-align: right;\">\n",
       "      <th></th>\n",
       "      <th>PG</th>\n",
       "      <th>JNJ</th>\n",
       "    </tr>\n",
       "    <tr>\n",
       "      <th>Date</th>\n",
       "      <th></th>\n",
       "      <th></th>\n",
       "    </tr>\n",
       "  </thead>\n",
       "  <tbody>\n",
       "    <tr>\n",
       "      <th>2007-01-03</th>\n",
       "      <td>NaN</td>\n",
       "      <td>NaN</td>\n",
       "    </tr>\n",
       "    <tr>\n",
       "      <th>2007-01-04</th>\n",
       "      <td>-0.007621</td>\n",
       "      <td>0.012423</td>\n",
       "    </tr>\n",
       "    <tr>\n",
       "      <th>2007-01-05</th>\n",
       "      <td>-0.008624</td>\n",
       "      <td>-0.009115</td>\n",
       "    </tr>\n",
       "    <tr>\n",
       "      <th>2007-01-08</th>\n",
       "      <td>0.002203</td>\n",
       "      <td>-0.001652</td>\n",
       "    </tr>\n",
       "    <tr>\n",
       "      <th>2007-01-09</th>\n",
       "      <td>-0.002518</td>\n",
       "      <td>-0.003766</td>\n",
       "    </tr>\n",
       "    <tr>\n",
       "      <th>...</th>\n",
       "      <td>...</td>\n",
       "      <td>...</td>\n",
       "    </tr>\n",
       "    <tr>\n",
       "      <th>2022-03-15</th>\n",
       "      <td>0.035355</td>\n",
       "      <td>0.025589</td>\n",
       "    </tr>\n",
       "    <tr>\n",
       "      <th>2022-03-16</th>\n",
       "      <td>-0.003400</td>\n",
       "      <td>-0.009240</td>\n",
       "    </tr>\n",
       "    <tr>\n",
       "      <th>2022-03-17</th>\n",
       "      <td>0.003133</td>\n",
       "      <td>0.012980</td>\n",
       "    </tr>\n",
       "    <tr>\n",
       "      <th>2022-03-18</th>\n",
       "      <td>-0.000533</td>\n",
       "      <td>-0.011148</td>\n",
       "    </tr>\n",
       "    <tr>\n",
       "      <th>2022-03-18</th>\n",
       "      <td>0.000000</td>\n",
       "      <td>0.000000</td>\n",
       "    </tr>\n",
       "  </tbody>\n",
       "</table>\n",
       "<p>3831 rows × 2 columns</p>\n",
       "</div>"
      ],
      "text/plain": [
       "                  PG       JNJ\n",
       "Date                          \n",
       "2007-01-03       NaN       NaN\n",
       "2007-01-04 -0.007621  0.012423\n",
       "2007-01-05 -0.008624 -0.009115\n",
       "2007-01-08  0.002203 -0.001652\n",
       "2007-01-09 -0.002518 -0.003766\n",
       "...              ...       ...\n",
       "2022-03-15  0.035355  0.025589\n",
       "2022-03-16 -0.003400 -0.009240\n",
       "2022-03-17  0.003133  0.012980\n",
       "2022-03-18 -0.000533 -0.011148\n",
       "2022-03-18  0.000000  0.000000\n",
       "\n",
       "[3831 rows x 2 columns]"
      ]
     },
     "execution_count": 8,
     "metadata": {},
     "output_type": "execute_result"
    }
   ],
   "source": [
    "sec_returns"
   ]
  },
  {
   "cell_type": "markdown",
   "id": "20b4d5c3",
   "metadata": {},
   "source": [
    "PG"
   ]
  },
  {
   "cell_type": "code",
   "execution_count": 9,
   "id": "2bd66c7b",
   "metadata": {},
   "outputs": [
    {
     "data": {
      "text/plain": [
       "0.00033656608196103014"
      ]
     },
     "execution_count": 9,
     "metadata": {},
     "output_type": "execute_result"
    }
   ],
   "source": [
    "sec_returns['PG'].mean()"
   ]
  },
  {
   "cell_type": "code",
   "execution_count": 10,
   "id": "a9a028f7",
   "metadata": {},
   "outputs": [
    {
     "data": {
      "text/plain": [
       "0.08414152049025754"
      ]
     },
     "execution_count": 10,
     "metadata": {},
     "output_type": "execute_result"
    }
   ],
   "source": [
    "sec_returns['PG'].mean() * 250"
   ]
  },
  {
   "cell_type": "code",
   "execution_count": 11,
   "id": "473d0f5e",
   "metadata": {},
   "outputs": [],
   "source": [
    "#calculando o desvio padrão"
   ]
  },
  {
   "cell_type": "code",
   "execution_count": 12,
   "id": "88f2bd82",
   "metadata": {},
   "outputs": [
    {
     "data": {
      "text/plain": [
       "0.011757250308178526"
      ]
     },
     "execution_count": 12,
     "metadata": {},
     "output_type": "execute_result"
    }
   ],
   "source": [
    "sec_returns['PG'].std()"
   ]
  },
  {
   "cell_type": "code",
   "execution_count": 13,
   "id": "b4132102",
   "metadata": {},
   "outputs": [
    {
     "data": {
      "text/plain": [
       "0.18589844997280372"
      ]
     },
     "execution_count": 13,
     "metadata": {},
     "output_type": "execute_result"
    }
   ],
   "source": [
    "sec_returns['PG'].std() * 250 ** 0.5"
   ]
  },
  {
   "cell_type": "markdown",
   "id": "5b994253",
   "metadata": {},
   "source": [
    "JOHNSON & JOHNSON"
   ]
  },
  {
   "cell_type": "code",
   "execution_count": 14,
   "id": "1b5d351e",
   "metadata": {},
   "outputs": [
    {
     "data": {
      "text/plain": [
       "0.00036925059104470304"
      ]
     },
     "execution_count": 14,
     "metadata": {},
     "output_type": "execute_result"
    }
   ],
   "source": [
    "sec_returns['JNJ'].mean()"
   ]
  },
  {
   "cell_type": "code",
   "execution_count": 15,
   "id": "2efa7fc5",
   "metadata": {},
   "outputs": [
    {
     "data": {
      "text/plain": [
       "0.09231264776117576"
      ]
     },
     "execution_count": 15,
     "metadata": {},
     "output_type": "execute_result"
    }
   ],
   "source": [
    "sec_returns['JNJ'].mean() * 250"
   ]
  },
  {
   "cell_type": "code",
   "execution_count": 16,
   "id": "35a8d96b",
   "metadata": {},
   "outputs": [
    {
     "data": {
      "text/plain": [
       "0.011169056558647035"
      ]
     },
     "execution_count": 16,
     "metadata": {},
     "output_type": "execute_result"
    }
   ],
   "source": [
    "sec_returns['JNJ'].std()"
   ]
  },
  {
   "cell_type": "code",
   "execution_count": 17,
   "id": "0d317607",
   "metadata": {},
   "outputs": [
    {
     "data": {
      "text/plain": [
       "0.17659829020283319"
      ]
     },
     "execution_count": 17,
     "metadata": {},
     "output_type": "execute_result"
    }
   ],
   "source": [
    "sec_returns['JNJ'].std() * 250 ** 0.5"
   ]
  },
  {
   "cell_type": "code",
   "execution_count": null,
   "id": "232e680a",
   "metadata": {},
   "outputs": [],
   "source": [
    "\n",
    "\n",
    "\n"
   ]
  },
  {
   "cell_type": "code",
   "execution_count": 18,
   "id": "0ba7f3ee",
   "metadata": {},
   "outputs": [],
   "source": [
    "#EQUAÇÃO DAS DUAS MÉDIAS ANUALIZADAS"
   ]
  },
  {
   "cell_type": "code",
   "execution_count": 19,
   "id": "7e23c000",
   "metadata": {},
   "outputs": [
    {
     "name": "stdout",
     "output_type": "stream",
     "text": [
      "0.08414152049025754\n",
      "0.09231264776117576\n"
     ]
    }
   ],
   "source": [
    "print(sec_returns['PG'].mean()* 250)\n",
    "print(sec_returns['JNJ'].mean()* 250)"
   ]
  },
  {
   "cell_type": "code",
   "execution_count": 20,
   "id": "6252b145",
   "metadata": {},
   "outputs": [
    {
     "data": {
      "text/plain": [
       "PG     0.084142\n",
       "JNJ    0.092313\n",
       "dtype: float64"
      ]
     },
     "execution_count": 20,
     "metadata": {},
     "output_type": "execute_result"
    }
   ],
   "source": [
    "sec_returns[['PG','JNJ']].mean() * 250"
   ]
  },
  {
   "cell_type": "code",
   "execution_count": 21,
   "id": "e6a686f9",
   "metadata": {},
   "outputs": [
    {
     "data": {
      "text/plain": [
       "PG     0.185898\n",
       "JNJ    0.176598\n",
       "dtype: float64"
      ]
     },
     "execution_count": 21,
     "metadata": {},
     "output_type": "execute_result"
    }
   ],
   "source": [
    "sec_returns[['PG','JNJ']].std() * 250 ** 0.5"
   ]
  },
  {
   "cell_type": "code",
   "execution_count": 22,
   "id": "03bdf29a",
   "metadata": {},
   "outputs": [],
   "source": [
    "#AÇÕES DA JOHNSON DÃO MAIS RETORNO E APRESENTAM MENOS RISCO (VOLATIVIDADE)"
   ]
  },
  {
   "cell_type": "markdown",
   "id": "3d84dad1",
   "metadata": {},
   "source": [
    "COVARIANCE AND CORRELATION"
   ]
  },
  {
   "cell_type": "code",
   "execution_count": 23,
   "id": "1a4f1e2b",
   "metadata": {},
   "outputs": [
    {
     "data": {
      "text/plain": [
       "0.00013823293480916404"
      ]
     },
     "execution_count": 23,
     "metadata": {},
     "output_type": "execute_result"
    }
   ],
   "source": [
    "PG_var = sec_returns['PG'].var()\n",
    "PG_var"
   ]
  },
  {
   "cell_type": "code",
   "execution_count": 25,
   "id": "1acda2d3",
   "metadata": {},
   "outputs": [
    {
     "data": {
      "text/plain": [
       "0.00012474782441025635"
      ]
     },
     "execution_count": 25,
     "metadata": {},
     "output_type": "execute_result"
    }
   ],
   "source": [
    "JNJ_var = sec_returns['JNJ'].var()\n",
    "JNJ_var"
   ]
  },
  {
   "cell_type": "code",
   "execution_count": 27,
   "id": "50b08cf3",
   "metadata": {},
   "outputs": [
    {
     "data": {
      "text/plain": [
       "0.03455823370229101"
      ]
     },
     "execution_count": 27,
     "metadata": {},
     "output_type": "execute_result"
    }
   ],
   "source": [
    "PG_var_anual = sec_returns['PG'].var() * 250\n",
    "PG_var_anual"
   ]
  },
  {
   "cell_type": "code",
   "execution_count": 29,
   "id": "ca1919db",
   "metadata": {},
   "outputs": [
    {
     "data": {
      "text/plain": [
       "0.031186956102564087"
      ]
     },
     "execution_count": 29,
     "metadata": {},
     "output_type": "execute_result"
    }
   ],
   "source": [
    "JNJ_var_anual = sec_returns['JNJ'].var() * 250\n",
    "JNJ_var_anual"
   ]
  },
  {
   "cell_type": "code",
   "execution_count": null,
   "id": "48bab6fd",
   "metadata": {},
   "outputs": [],
   "source": [
    "\n",
    "\n"
   ]
  },
  {
   "cell_type": "code",
   "execution_count": 30,
   "id": "afdf99bd",
   "metadata": {},
   "outputs": [
    {
     "data": {
      "text/html": [
       "<div>\n",
       "<style scoped>\n",
       "    .dataframe tbody tr th:only-of-type {\n",
       "        vertical-align: middle;\n",
       "    }\n",
       "\n",
       "    .dataframe tbody tr th {\n",
       "        vertical-align: top;\n",
       "    }\n",
       "\n",
       "    .dataframe thead th {\n",
       "        text-align: right;\n",
       "    }\n",
       "</style>\n",
       "<table border=\"1\" class=\"dataframe\">\n",
       "  <thead>\n",
       "    <tr style=\"text-align: right;\">\n",
       "      <th></th>\n",
       "      <th>PG</th>\n",
       "      <th>JNJ</th>\n",
       "    </tr>\n",
       "  </thead>\n",
       "  <tbody>\n",
       "    <tr>\n",
       "      <th>PG</th>\n",
       "      <td>0.000138</td>\n",
       "      <td>0.000079</td>\n",
       "    </tr>\n",
       "    <tr>\n",
       "      <th>JNJ</th>\n",
       "      <td>0.000079</td>\n",
       "      <td>0.000125</td>\n",
       "    </tr>\n",
       "  </tbody>\n",
       "</table>\n",
       "</div>"
      ],
      "text/plain": [
       "           PG       JNJ\n",
       "PG   0.000138  0.000079\n",
       "JNJ  0.000079  0.000125"
      ]
     },
     "execution_count": 30,
     "metadata": {},
     "output_type": "execute_result"
    }
   ],
   "source": [
    "cov_matrix = sec_returns.cov()\n",
    "cov_matrix"
   ]
  },
  {
   "cell_type": "code",
   "execution_count": 31,
   "id": "cff78005",
   "metadata": {},
   "outputs": [
    {
     "data": {
      "text/html": [
       "<div>\n",
       "<style scoped>\n",
       "    .dataframe tbody tr th:only-of-type {\n",
       "        vertical-align: middle;\n",
       "    }\n",
       "\n",
       "    .dataframe tbody tr th {\n",
       "        vertical-align: top;\n",
       "    }\n",
       "\n",
       "    .dataframe thead th {\n",
       "        text-align: right;\n",
       "    }\n",
       "</style>\n",
       "<table border=\"1\" class=\"dataframe\">\n",
       "  <thead>\n",
       "    <tr style=\"text-align: right;\">\n",
       "      <th></th>\n",
       "      <th>PG</th>\n",
       "      <th>JNJ</th>\n",
       "    </tr>\n",
       "  </thead>\n",
       "  <tbody>\n",
       "    <tr>\n",
       "      <th>PG</th>\n",
       "      <td>0.034558</td>\n",
       "      <td>0.019772</td>\n",
       "    </tr>\n",
       "    <tr>\n",
       "      <th>JNJ</th>\n",
       "      <td>0.019772</td>\n",
       "      <td>0.031187</td>\n",
       "    </tr>\n",
       "  </tbody>\n",
       "</table>\n",
       "</div>"
      ],
      "text/plain": [
       "           PG       JNJ\n",
       "PG   0.034558  0.019772\n",
       "JNJ  0.019772  0.031187"
      ]
     },
     "execution_count": 31,
     "metadata": {},
     "output_type": "execute_result"
    }
   ],
   "source": [
    "cov_matrix_anual = sec_returns.cov() * 250\n",
    "cov_matrix_anual"
   ]
  },
  {
   "cell_type": "code",
   "execution_count": 32,
   "id": "843eb57f",
   "metadata": {},
   "outputs": [
    {
     "data": {
      "text/html": [
       "<div>\n",
       "<style scoped>\n",
       "    .dataframe tbody tr th:only-of-type {\n",
       "        vertical-align: middle;\n",
       "    }\n",
       "\n",
       "    .dataframe tbody tr th {\n",
       "        vertical-align: top;\n",
       "    }\n",
       "\n",
       "    .dataframe thead th {\n",
       "        text-align: right;\n",
       "    }\n",
       "</style>\n",
       "<table border=\"1\" class=\"dataframe\">\n",
       "  <thead>\n",
       "    <tr style=\"text-align: right;\">\n",
       "      <th></th>\n",
       "      <th>PG</th>\n",
       "      <th>JNJ</th>\n",
       "    </tr>\n",
       "  </thead>\n",
       "  <tbody>\n",
       "    <tr>\n",
       "      <th>PG</th>\n",
       "      <td>1.000000</td>\n",
       "      <td>0.602264</td>\n",
       "    </tr>\n",
       "    <tr>\n",
       "      <th>JNJ</th>\n",
       "      <td>0.602264</td>\n",
       "      <td>1.000000</td>\n",
       "    </tr>\n",
       "  </tbody>\n",
       "</table>\n",
       "</div>"
      ],
      "text/plain": [
       "           PG       JNJ\n",
       "PG   1.000000  0.602264\n",
       "JNJ  0.602264  1.000000"
      ]
     },
     "execution_count": 32,
     "metadata": {},
     "output_type": "execute_result"
    }
   ],
   "source": [
    "corr_matrix = sec_returns.corr()\n",
    "corr_matrix"
   ]
  },
  {
   "cell_type": "code",
   "execution_count": 33,
   "id": "69f3554b",
   "metadata": {},
   "outputs": [],
   "source": [
    "#O RETORNO DAS AÇÕES DAS DUAS EMPRESAS TÊM alta CORRELAÇÃO"
   ]
  },
  {
   "cell_type": "code",
   "execution_count": null,
   "id": "1cae527d",
   "metadata": {},
   "outputs": [],
   "source": []
  }
 ],
 "metadata": {
  "kernelspec": {
   "display_name": "Python 3 (ipykernel)",
   "language": "python",
   "name": "python3"
  },
  "language_info": {
   "codemirror_mode": {
    "name": "ipython",
    "version": 3
   },
   "file_extension": ".py",
   "mimetype": "text/x-python",
   "name": "python",
   "nbconvert_exporter": "python",
   "pygments_lexer": "ipython3",
   "version": "3.9.6"
  }
 },
 "nbformat": 4,
 "nbformat_minor": 5
}
